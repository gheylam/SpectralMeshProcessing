{
 "cells": [
  {
   "cell_type": "markdown",
   "id": "43be756d",
   "metadata": {},
   "source": [
    "# SPoOkY Meshes 👻"
   ]
  },
  {
   "cell_type": "code",
   "execution_count": 3,
   "id": "312567a4",
   "metadata": {},
   "outputs": [],
   "source": [
    "import base64\n",
    "import time\n",
    "\n",
    "import numpy as np\n",
    "import scipy as sp\n",
    "import meshplot as mp\n",
    "\n",
    "import scipy.sparse\n",
    "import scipy.sparse.linalg\n",
    "import meshio\n",
    "import IPython"
   ]
  },
  {
   "cell_type": "code",
   "execution_count": 4,
   "id": "56d025d0",
   "metadata": {},
   "outputs": [],
   "source": [
    "def load_mesh(filename):\n",
    "    m = meshio.read(filename)\n",
    "    v = m.points\n",
    "    f = m.cells[0].data\n",
    "    return v, f\n",
    "\n",
    "\n",
    "def save_mesh(filename, v, f):\n",
    "    m  = meshio.Mesh(v, f)\n",
    "    m.write(filename)\n",
    "\n",
    "\n",
    "# v1, f1 = load_mesh('cw2_meshes/curvatures/plane.obj')\n",
    "# v2, f2 = load_mesh('cw2_meshes/curvatures/lilium_s.obj')\n",
    "# v3, f3 = load_mesh('cw2_meshes/decompose/armadillo.obj')\n",
    "# v4, f4 = load_mesh('cw2_meshes/smoothing/fandisk_ns.obj')\n",
    "# v5, f5 = load_mesh('cw2_meshes/smoothing/plane_ns.obj')\n",
    "v7, f7 = load_mesh('sappho-hires.obj')"
   ]
  },
  {
   "cell_type": "code",
   "execution_count": 5,
   "id": "2946df0d",
   "metadata": {},
   "outputs": [],
   "source": [
    "def normalize(v):\n",
    "    \"\"\"\n",
    "    recenter points\n",
    "    \"\"\"\n",
    "    if not np.any(v):\n",
    "        return v\n",
    "    return 2 * (v - v.min()) / (v.max() - v.min()) - 1\n",
    "\n",
    "\n",
    "def percentile_clip(h, n):\n",
    "    \"\"\"\n",
    "    reject outlier points\n",
    "    \"\"\"\n",
    "    return np.clip(h, np.percentile(h, n), np.percentile(h, 100 - n))"
   ]
  },
  {
   "cell_type": "code",
   "execution_count": 6,
   "id": "ea7cb466",
   "metadata": {},
   "outputs": [],
   "source": [
    "# Unsexy test mesh for debugging\n",
    "v0 = np.array([\n",
    "    [ 0, 0, 0],\n",
    "    [-3, 4, 0],\n",
    "    [-6, 0, 0],\n",
    "    [-3,-4, 0],\n",
    "    [ 3,-4, 0],\n",
    "    [ 6, 0, 0],\n",
    "    [ 3, 4, 0],\n",
    "], dtype=np.float32)\n",
    "\n",
    "f0 = np.array([\n",
    "    [0, 1, 2],\n",
    "    [0, 2, 3],\n",
    "    [0, 3, 4],\n",
    "    [0, 4, 5],\n",
    "    [0, 5, 6],\n",
    "    [0, 1, 6],\n",
    "], dtype=np.int32)\n",
    "\n",
    "# perturbed vertex indices to throw off naive algorithms\n",
    "# f0 = np.array([\n",
    "#     [1, 0, 2],\n",
    "#     [2, 3, 0],\n",
    "#     [0, 3, 4],\n",
    "#     [4, 0, 5],\n",
    "#     [5, 6, 0],\n",
    "#     [6, 1, 0],\n",
    "# ], dtype=np.int32)"
   ]
  },
  {
   "cell_type": "markdown",
   "id": "1db97ec7",
   "metadata": {},
   "source": [
    "## Laplace-Beltrami and Friends"
   ]
  },
  {
   "cell_type": "markdown",
   "id": "88133b99",
   "metadata": {},
   "source": [
    "### Vertex Area"
   ]
  },
  {
   "cell_type": "code",
   "execution_count": 7,
   "id": "60899957",
   "metadata": {},
   "outputs": [],
   "source": [
    "def triangle_area(v, f):\n",
    "    i, j, k = f.T\n",
    "    a, b, c = v[i], v[j], v[k]\n",
    "\n",
    "    ac = c - a\n",
    "    bc = c - b\n",
    "\n",
    "    return np.linalg.norm(np.cross(ac, bc, axis=1), axis=1) / 2\n",
    "\n",
    "\n",
    "def vertex_area(v, f):\n",
    "    \"\"\"\n",
    "    compute total area about vertices\n",
    "    3.59ms for 281,724 faces, not bad son\n",
    "    \"\"\"\n",
    "    n = len(v)\n",
    "    A = np.zeros((3, len(f)))\n",
    "\n",
    "    area = triangle_area(v, f)\n",
    "\n",
    "    # set internal angles at vertex location in face array\n",
    "    # using indexes that have duplicate values to increment doesn't work\n",
    "    A[0] = area\n",
    "    A[1] = area\n",
    "    A[2] = area\n",
    "\n",
    "    # some esoteric numpy for summing at duplicated indices\n",
    "    # coo matrices are also an option\n",
    "    data = A.ravel()\n",
    "    cols = f.T.ravel()\n",
    "\n",
    "    M = np.zeros(n)\n",
    "    np.add.at(M, cols, data)\n",
    "\n",
    "    return sp.sparse.diags(M)\n",
    "\n",
    "\n",
    "def barycentric_mass(v, f):\n",
    "    return vertex_area(v, f) / 3\n",
    "\n",
    "\n",
    "# %timeit vertex_area(v4, f4)\n",
    "\n",
    "\n",
    "M = barycentric_mass(v0, f0)\n",
    "assert list(M.diagonal()) == [24, 8, 8, 8, 8, 8, 8]"
   ]
  },
  {
   "cell_type": "markdown",
   "id": "b6463b97",
   "metadata": {},
   "source": [
    "### Cotangent operator"
   ]
  },
  {
   "cell_type": "code",
   "execution_count": 8,
   "id": "4ef3188f",
   "metadata": {},
   "outputs": [],
   "source": [
    "def cotangent_curvature(v, f):\n",
    "    \"\"\"\n",
    "    we can sum the contribution of all adjacent angles,\n",
    "    then subtract the contribution of all interior angles.\n",
    "    \n",
    "    using edges would probably avoid some redundant work here (as above).\n",
    "\n",
    "    133ms seconds for 281,724 faces. igl is 52.2ms.\n",
    "    \"\"\"\n",
    "    n = len(v)\n",
    "    \n",
    "    # indices\n",
    "    i, j, k = f.T\n",
    "    a, b, c = v[i], v[j], v[k]\n",
    "\n",
    "    # vectors\n",
    "    ab = b - a\n",
    "    ac = c - a\n",
    "    bc = c - b\n",
    "    \n",
    "    # big chungus cotangent computation\n",
    "    abc = np.einsum('ij,ij->i', ab, ac) / np.linalg.norm(np.cross( ab, ac, axis=1), axis=1)\n",
    "    bac = np.einsum('ij,ij->i',-ab, bc) / np.linalg.norm(np.cross(-ab, bc, axis=1), axis=1)\n",
    "    cab = np.einsum('ij,ij->i',-ac,-bc) / np.linalg.norm(np.cross(-ac,-bc, axis=1), axis=1)\n",
    "\n",
    "    # set weights for opposite edges\n",
    "    # a csr_matrix will sum the quantities for us!\n",
    "    data = np.hstack([cab, abc, bac])\n",
    "    rows = np.hstack([i,   j,   k, ])\n",
    "    cols = np.hstack([j,   k,   i, ])\n",
    "    T = sp.sparse.csr_matrix((data, (rows, cols)))\n",
    "\n",
    "    # mad gains by flipping across the diagonal ;)\n",
    "    T = T + T.T\n",
    "\n",
    "    # Nearly there. sum the rows and use as diagonal.\n",
    "    S = sp.sparse.diags(T.sum(axis=1).A.ravel())\n",
    "    T = T - S\n",
    "\n",
    "    # i'm never doing this again\n",
    "    # divide by two as we have computed k_1 + k_2\n",
    "    return T / 2\n",
    "\n",
    "\n",
    "# %timeit cotangent_curvature(v7, f7)\n",
    "\n",
    "C = cotangent_curvature(v0, f0)\n",
    "T = np.diag(np.round((180 / np.pi) * C.todense()))\n",
    "\n",
    "assert list(T) == [-205, -73, -60, -73, -73, -60, -73]\n",
    "assert np.sum(C) < 1e-6"
   ]
  },
  {
   "cell_type": "markdown",
   "id": "cbe9fc4e-e095-493b-9734-b2e0456668fa",
   "metadata": {},
   "source": [
    "### Check that mean curvature works"
   ]
  },
  {
   "cell_type": "code",
   "execution_count": 157,
   "id": "75b3e726",
   "metadata": {},
   "outputs": [
    {
     "data": {
      "application/vnd.jupyter.widget-view+json": {
       "model_id": "f97ff257248a47d289a702e16ad275fa",
       "version_major": 2,
       "version_minor": 0
      },
      "text/plain": [
       "Renderer(camera=PerspectiveCamera(children=(DirectionalLight(color='white', intensity=0.6, position=(28.620000…"
      ]
     },
     "metadata": {},
     "output_type": "display_data"
    },
    {
     "data": {
      "text/plain": [
       "<meshplot.Viewer.Viewer at 0x158128b80>"
      ]
     },
     "execution_count": 157,
     "metadata": {},
     "output_type": "execute_result"
    }
   ],
   "source": [
    "def mean_curvature_metric(v, f):\n",
    "    M = barycentric_mass(v, f)\n",
    "    C = cotangent_curvature(v, f)\n",
    "    Mi = sp.sparse.diags(1 / M.diagonal())\n",
    "    Hn = -Mi @ C @ v\n",
    "    H  = np.linalg.norm(Hn, axis=1)\n",
    "    return H\n",
    "\n",
    "\n",
    "c7 = percentile_clip(mean_curvature_metric(v7, f7), 5)\n",
    "\n",
    "mp.plot(v7, f7, c7)"
   ]
  },
  {
   "cell_type": "markdown",
   "id": "4b8179a2",
   "metadata": {},
   "source": [
    "## TV Divergence & Gradient Operators"
   ]
  },
  {
   "cell_type": "markdown",
   "id": "b1a5c399",
   "metadata": {},
   "source": [
    "hack this together\n",
    "\n",
    "$$\n",
    "\\mathbf{G} f\\left(\\mathbf{t}_{i j k}\\right)=\\left(\\begin{array}{cc}\n",
    "\\mathbf{v}_{j}^{\\top}-\\mathbf{v}_{i}^{\\top} \\\\\n",
    "\\mathbf{v}_{k}^{\\top}-\\mathbf{v}_{i}^{\\top}\n",
    "\\end{array}\\right)^{\\top}\\left(\\begin{array}{cc}\n",
    "\\left\\|e_{i j}\\right\\|^{2} & \\left\\langle e_{i j}, e_{i k}\\right\\rangle \\\\\n",
    "\\left\\langle e_{i j}, e_{i k}\\right\\rangle & \\left\\|e_{i k}\\right\\|^{2}\n",
    "\\end{array}\\right)\\left(\\begin{array}{l}\n",
    "f\\left(\\mathbf{v}_{j}\\right)-f\\left(\\mathbf{v}_{i}\\right) \\\\\n",
    "f\\left(\\mathbf{v}_{k}\\right)-f\\left(\\mathbf{v}_{i}\\right)\n",
    "\\end{array}\\right)\n",
    "$$"
   ]
  },
  {
   "cell_type": "code",
   "execution_count": 158,
   "id": "8465d088",
   "metadata": {},
   "outputs": [],
   "source": [
    "def twonormest(A):\n",
    "    \"\"\"\n",
    "    square root of largest singular value of A?!?\n",
    "    https://en.wikipedia.org/wiki/Matrix_norm\n",
    "    \"\"\"\n",
    "    [e] = scipy.sparse.linalg.svds(A, k=1, return_singular_vectors=False)\n",
    "    return np.sqrt(e)\n",
    "\n",
    "\n",
    "def tv_gradient_operator(v, f, axis):\n",
    "    # indices\n",
    "    i, j, k = f.T\n",
    "\n",
    "    # edges?\n",
    "    e_ij = v[j] - v[i]\n",
    "    e_ik = v[k] - v[i]\n",
    "    \n",
    "    # hstack and reshape into F x 2 x 3\n",
    "    # TODO: can we remove this swapaxes?\n",
    "    A = np.hstack([\n",
    "        e_ij,\n",
    "        e_ik,\n",
    "    ]).reshape(len(f), 2, 3).swapaxes(1, 2)\n",
    "    \n",
    "    e_ij2 = np.sum(e_ij ** 2, axis=1)\n",
    "    e_ik2 = np.sum(e_ik ** 2, axis=1)\n",
    "    \n",
    "    e_min = np.min(np.hstack([np.sqrt(e_ij2), np.sqrt(e_ik2)]))\n",
    "\n",
    "    e_ijik = np.einsum('ij,ij->i', e_ij, e_ik)\n",
    "\n",
    "    B = np.hstack([\n",
    "        [e_ij2, e_ijik, e_ijik, e_ik2],             \n",
    "    ]).reshape(2, 2, len(f)).T\n",
    "\n",
    "    # our 'function' is the X coordinate for now\n",
    "    C = np.array([\n",
    "        v[j][:, axis] - v[i][:, axis],\n",
    "        v[k][:, axis] - v[i][:, axis],\n",
    "    ]).reshape(len(f), 2, 1)\n",
    "\n",
    "    D = A @ B @ C\n",
    "    \n",
    "    rows = np.repeat(np.arange(0, len(f)), 3)\n",
    "    cols = f.ravel()\n",
    "    data = D.ravel()\n",
    "\n",
    "    G = sp.sparse.csr_matrix((data, (rows, cols)))\n",
    "    \n",
    "    # compute tau, sigma while we're in toon\n",
    "    N = twonormest(G)\n",
    "    t = e_min / N\n",
    "    \n",
    "    return G, t\n",
    "\n",
    "\n",
    "def tv_gradient_operators(v, f, axis=0):\n",
    "    \"\"\"\n",
    "    return G and adjoint D\n",
    "    \"\"\"\n",
    "    G, t = tv_gradient_operator(v, f, axis)\n",
    "    A = barycentric_mass(v, f)\n",
    "    T = sp.sparse.diags(triangle_area(v, f))\n",
    "    Ai = sp.sparse.diags(1 / A.diagonal())\n",
    "    D = -Ai @ G.T @ T\n",
    "    return G, D, t\n",
    "\n",
    "\n",
    "# Test that our unsexy mesh produces the correct value for the first row\n",
    "G, t = tv_gradient_operator(v0, f0)\n",
    "assert np.allclose(G.todense().A[0], [2169, -732, 0, 0, 0, 0, 0])\n",
    "\n",
    "# test that we get a value for tau / sigma\n",
    "assert np.allclose(t, 0.083425544)"
   ]
  },
  {
   "cell_type": "code",
   "execution_count": 273,
   "id": "39db1efb-a2fe-4a60-a6fa-608dc5ffd671",
   "metadata": {},
   "outputs": [],
   "source": [
    "def prox_f(q):\n",
    "    \"\"\"\n",
    "    project q onto the l2 ball\n",
    "    \"\"\"\n",
    "    qT = q.T\n",
    "    qT_norm = np.linalg.norm(qT, axis=0)\n",
    "    indices = qT_norm > 1\n",
    "    qT[:, indices] = qT[:, indices] / qT_norm[indices]\n",
    "    return qT.T\n",
    "\n",
    "A = np.array([\n",
    "    [0  ,   1,   2],  # normalized\n",
    "    [1/2, 1/2, 1/2],  # unchanged\n",
    "    [1/3, 1/3, 1/3],  # unchanged\n",
    "    [1/4, 1/4, 1/4],  # unchanged\n",
    "])\n",
    "proj = prox_f(A)\n",
    "\n",
    "assert np.allclose(proj[0], [0. , 0.4472136 , 0.89442719])\n",
    "assert np.allclose(proj[1], A[1])\n",
    "assert np.allclose(proj[2], A[2])\n",
    "assert np.allclose(proj[3], A[3])"
   ]
  },
  {
   "cell_type": "code",
   "execution_count": 267,
   "id": "488378cb-a2d6-4ed3-a3c6-9d1a02fb4d70",
   "metadata": {},
   "outputs": [
    {
     "name": "stdout",
     "output_type": "stream",
     "text": [
      "converged!\n",
      "converged!\n",
      "converged!\n",
      "converged!\n",
      "converged!\n"
     ]
    },
    {
     "data": {
      "application/vnd.jupyter.widget-view+json": {
       "model_id": "18dfa9406fe54e53bc63a23a59236189",
       "version_major": 2,
       "version_minor": 0
      },
      "text/plain": [
       "Renderer(camera=PerspectiveCamera(children=(DirectionalLight(color='white', intensity=0.6, position=(12947783.…"
      ]
     },
     "metadata": {},
     "output_type": "display_data"
    },
    {
     "data": {
      "text/plain": [
       "<meshplot.Viewer.Viewer at 0x158128340>"
      ]
     },
     "execution_count": 267,
     "metadata": {},
     "output_type": "execute_result"
    }
   ],
   "source": [
    "\n",
    "def solve(v, f, axis):\n",
    "    \"\"\"\n",
    "    The algorithm simply evolves the input signal by N discrete steps along the TV flow;\n",
    "    each iteration moves a step forward, with diffusion time equal to α.\n",
    "    As changes happen quickly for small t and tend to become slower for larger t\n",
    "    we iteratively increase the step size α of the evolution.\n",
    "    \n",
    "    Subsequently, the spectral representation φt is constructed incrementally using finite differences,\n",
    "    such that the integral of Eq. (12) becomes a simple weighted sum over the φt.\n",
    "    We give selection strategies for α and N in Appendix B.4.\n",
    "    \"\"\"\n",
    "    t = 5  # number of time steps ~= number of features?!\n",
    "    \n",
    "    u_0 = v[:, axis]  # input signal\n",
    "    u_t = np.zeros((t, *u_0.shape))  # feature stack\n",
    "    p_t = np.zeros_like(u_t)  # spectral representation\n",
    "\n",
    "    alpha = 0.1  # step size - not sure what this should be\n",
    "\n",
    "    # operators - these may change on each iteration and need to be recomputed...\n",
    "    G, D, tau = tv_gradient_operators(v, f, axis)\n",
    "    sigma = tau\n",
    "    \n",
    "    # just 0.5. phew!\n",
    "    theta = 0.5\n",
    "    \n",
    "    u = u_0\n",
    "    \n",
    "    def prox_g(u):\n",
    "        output = u + (tau / alpha) + u_0\n",
    "        output = output / (1 + (tau / alpha))\n",
    "        return output\n",
    "\n",
    "    for i in range(0, t):\n",
    "        \n",
    "        # initialize q\n",
    "        q = np.zeros_like(f[:, axis])\n",
    "\n",
    "        # algorithm 2\n",
    "        while True:\n",
    "            u_next = prox_g(u - tau * D @ q)\n",
    "            u_bar  = u_next + theta * (u_next - u)\n",
    "            q_next = prox_f(q + sigma * G @ u_bar)\n",
    "\n",
    "            if np.linalg.norm(u_next - u) < 1:\n",
    "                print(\"converged!\")\n",
    "                u_t[i] = u_next\n",
    "                break  # done?!\n",
    "\n",
    "            u = u_next\n",
    "            q = q_next\n",
    "        \n",
    "        p_t[i] = u_t[i] - u_t[i-1]\n",
    "        u_0    = u_t[i]\n",
    "    return p_t\n",
    "\n",
    "\n",
    "p_t = solve(v7, f7, axis=0)\n",
    "\n",
    "v7_t = np.vstack([p_t[4], v7[:, 1], v7[:, 2]]).T\n",
    "\n",
    "mp.plot(v7_t, f7)"
   ]
  },
  {
   "cell_type": "code",
   "execution_count": null,
   "id": "9dbff9a4-8bff-4840-94d6-ec02ca1a413c",
   "metadata": {},
   "outputs": [],
   "source": []
  }
 ],
 "metadata": {
  "kernelspec": {
   "display_name": "Python 3",
   "language": "python",
   "name": "python3"
  },
  "language_info": {
   "codemirror_mode": {
    "name": "ipython",
    "version": 3
   },
   "file_extension": ".py",
   "mimetype": "text/x-python",
   "name": "python",
   "nbconvert_exporter": "python",
   "pygments_lexer": "ipython3",
   "version": "3.9.2"
  }
 },
 "nbformat": 4,
 "nbformat_minor": 5
}
