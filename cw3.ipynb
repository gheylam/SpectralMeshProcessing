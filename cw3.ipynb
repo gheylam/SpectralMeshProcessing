{
 "cells": [
  {
   "cell_type": "markdown",
   "id": "43be756d",
   "metadata": {},
   "source": [
    "# SPoOkY Meshes 👻"
   ]
  },
  {
   "cell_type": "code",
   "execution_count": 1,
   "id": "312567a4",
   "metadata": {},
   "outputs": [],
   "source": [
    "import time\n",
    "\n",
    "import numpy as np\n",
    "import scipy as sp\n",
    "import meshplot as mp\n",
    "\n",
    "import matplotlib.pyplot as plt\n",
    "\n",
    "import scipy.sparse\n",
    "import scipy.sparse.linalg\n",
    "import meshio\n",
    "import IPython"
   ]
  },
  {
   "cell_type": "code",
   "execution_count": 1078,
   "id": "56d025d0",
   "metadata": {},
   "outputs": [],
   "source": [
    "def load_mesh(filename):\n",
    "    m = meshio.read(filename)\n",
    "    v = m.points\n",
    "    f = m.cells[0].data\n",
    "    # center and scale mesh\n",
    "    v = v - np.mean(v, axis=0)\n",
    "    v = v / np.max(np.std(v, axis=0))\n",
    "    return v, f\n",
    "\n",
    "\n",
    "def save_mesh(filename, v, f):\n",
    "    m  = meshio.Mesh(v, f)\n",
    "    m.write(filename)\n",
    "\n",
    "\n",
    "v1, f1 = load_mesh('example_meshes/curvatures/plane.obj')\n",
    "v2, f2 = load_mesh('example_meshes/curvatures/lilium_s.obj')\n",
    "v3, f3 = load_mesh('example_meshes/decompose/armadillo.obj')\n",
    "v4, f4 = load_mesh('example_meshes/smoothing/fandisk_ns.obj')\n",
    "v5, f5 = load_mesh('example_meshes/smoothing/plane_ns.obj')\n",
    "v7, f7 = load_mesh('sappho-hires.obj')\n",
    "v8, f8 = load_mesh('gargoyle.off')"
   ]
  },
  {
   "cell_type": "code",
   "execution_count": 1079,
   "id": "2946df0d",
   "metadata": {},
   "outputs": [],
   "source": [
    "def standardize(v):\n",
    "    \"\"\"\n",
    "    recenter points\n",
    "    \"\"\"\n",
    "    v = v - np.mean(v, axis=0)\n",
    "    v = v / np.std(v, axis=0).max()\n",
    "    return v\n",
    "\n",
    "\n",
    "def percentile_clip(h, n):\n",
    "    \"\"\"\n",
    "    reject outlier points\n",
    "    \"\"\"\n",
    "    return np.clip(h, np.percentile(h, n), np.percentile(h, 100 - n))"
   ]
  },
  {
   "cell_type": "code",
   "execution_count": 1080,
   "id": "ea7cb466",
   "metadata": {},
   "outputs": [],
   "source": [
    "# Unsexy test mesh for debugging\n",
    "v0 = np.array([\n",
    "    [ 0, 0, 0],\n",
    "    [-3, 4, 0],\n",
    "    [-6, 0, 0],\n",
    "    [-3,-4, 0],\n",
    "    [ 3,-4, 0],\n",
    "    [ 6, 0, 0],\n",
    "    [ 3, 4, 0],\n",
    "], dtype=np.float32)\n",
    "\n",
    "f0 = np.array([\n",
    "    [0, 1, 2],\n",
    "    [0, 2, 3],\n",
    "    [0, 3, 4],\n",
    "    [0, 4, 5],\n",
    "    [0, 5, 6],\n",
    "    [0, 1, 6],\n",
    "], dtype=np.int32)\n",
    "\n",
    "# perturbed vertex indices to throw off naive algorithms\n",
    "# f0 = np.array([\n",
    "#     [1, 0, 2],\n",
    "#     [2, 3, 0],\n",
    "#     [0, 3, 4],\n",
    "#     [4, 0, 5],\n",
    "#     [5, 6, 0],\n",
    "#     [6, 1, 0],\n",
    "# ], dtype=np.int32)"
   ]
  },
  {
   "cell_type": "markdown",
   "id": "1db97ec7",
   "metadata": {},
   "source": [
    "## Laplace-Beltrami and Friends"
   ]
  },
  {
   "cell_type": "markdown",
   "id": "88133b99",
   "metadata": {},
   "source": [
    "### Vertex Area"
   ]
  },
  {
   "cell_type": "code",
   "execution_count": 1081,
   "id": "60899957",
   "metadata": {},
   "outputs": [],
   "source": [
    "def normalize(v):\n",
    "    \"\"\"\n",
    "    normalize rows of vectors\n",
    "    \"\"\"\n",
    "    return v / np.linalg.norm(v, axis=1)[:, np.newaxis]\n",
    "\n",
    "\n",
    "def edges(f, n):\n",
    "    \"\"\"\n",
    "    build an adjacency matrix, return edges in only one direction (upper triangular)\n",
    "    \"\"\"\n",
    "    A = sp.sparse.triu(adjacency(f, n))\n",
    "    ei, ej = A.nonzero()\n",
    "    ed = np.vstack([ei, ej]).T\n",
    "    # sort for consistency\n",
    "    return np.sort(ed, axis=0)\n",
    "\n",
    "\n",
    "def adjacency(f, n):\n",
    "    \"\"\"\n",
    "    build a sparse adjacency matrix from faces in coordinate format.\n",
    "    faces have some redundancy which we use a bitmask to filter.\n",
    "    \"\"\"\n",
    "    A = sp.sparse.dok_matrix((n, n), dtype=bool)\n",
    "    i, j, k = f.T\n",
    "    A[i, j] = True\n",
    "    A[j, k] = True\n",
    "    A[k, i] = True\n",
    "    A = A.tocsr()\n",
    "    A = A + A.T\n",
    "    return A\n",
    "\n",
    "\n",
    "def face_normals(v, f):\n",
    "    \"\"\"\n",
    "    compute normals of faces f\n",
    "    \"\"\"\n",
    "    i, j, k = f.T\n",
    "    # compute edges\n",
    "    e1 = v[j] - v[i]\n",
    "    e2 = v[k] - v[i]\n",
    "    # cross product is face normal\n",
    "    n = np.cross(e1, e2, axis=1)\n",
    "    return normalize(n)\n",
    "\n",
    "\n",
    "def triangle_area(v, f):\n",
    "    \"\"\"\n",
    "    compute triangle areas\n",
    "    \"\"\"\n",
    "    i, j, k = f.T\n",
    "    a, b, c = v[i], v[j], v[k]\n",
    "\n",
    "    ac = c - a\n",
    "    bc = c - b\n",
    "\n",
    "    return np.linalg.norm(np.cross(ac, bc, axis=1), axis=1) / 2\n",
    "\n",
    "\n",
    "def vertex_area(v, f):\n",
    "    \"\"\"\n",
    "    compute total area about vertices\n",
    "    3.59ms for 281,724 faces, not bad son\n",
    "    \"\"\"\n",
    "    n = len(v)\n",
    "    A = np.zeros((3, len(f)))\n",
    "\n",
    "    area = triangle_area(v, f)\n",
    "\n",
    "    # set internal angles at vertex location in face array\n",
    "    # using indexes that have duplicate values to increment doesn't work\n",
    "    A[0] = area\n",
    "    A[1] = area\n",
    "    A[2] = area\n",
    "\n",
    "    # some esoteric numpy for summing at duplicated indices\n",
    "    # coo matrices are also an option\n",
    "    data = A.ravel()\n",
    "    cols = f.T.ravel()\n",
    "\n",
    "    M = np.zeros(n)\n",
    "    np.add.at(M, cols, data)\n",
    "\n",
    "    return sp.sparse.diags(M)\n",
    "\n",
    "\n",
    "def barycentric_mass(v, f):\n",
    "    return vertex_area(v, f) / 3\n",
    "\n",
    "\n",
    "M = barycentric_mass(v0, f0)\n",
    "assert list(M.diagonal()) == [24, 8, 8, 8, 8, 8, 8]\n",
    "\n",
    "assert len(edges(f0, len(v0))) == 12"
   ]
  },
  {
   "cell_type": "markdown",
   "id": "b6463b97",
   "metadata": {},
   "source": [
    "# Cotangent operator"
   ]
  },
  {
   "cell_type": "code",
   "execution_count": 1082,
   "id": "4ef3188f",
   "metadata": {},
   "outputs": [],
   "source": [
    "def cotangent_curvature(v, f):\n",
    "    \"\"\"\n",
    "    we can sum the contribution of all adjacent angles,\n",
    "    then subtract the contribution of all interior angles.\n",
    "    \n",
    "    using edges would probably avoid some redundant work here (as above).\n",
    "\n",
    "    133ms seconds for 281,724 faces. igl is 52.2ms.\n",
    "    \"\"\"\n",
    "    n = len(v)\n",
    "    \n",
    "    # indices\n",
    "    i, j, k = f.T\n",
    "    a, b, c = v[i], v[j], v[k]\n",
    "\n",
    "    # vectors\n",
    "    ab = b - a\n",
    "    ac = c - a\n",
    "    bc = c - b\n",
    "    \n",
    "    # big chungus cotangent computation\n",
    "    abc = np.einsum('ij,ij->i', ab, ac) / np.linalg.norm(np.cross( ab, ac, axis=1), axis=1)\n",
    "    bac = np.einsum('ij,ij->i',-ab, bc) / np.linalg.norm(np.cross(-ab, bc, axis=1), axis=1)\n",
    "    cab = np.einsum('ij,ij->i',-ac,-bc) / np.linalg.norm(np.cross(-ac,-bc, axis=1), axis=1)\n",
    "\n",
    "    # set weights for opposite edges\n",
    "    # a csr_matrix will sum the quantities for us!\n",
    "    data = np.hstack([cab, abc, bac])\n",
    "    rows = np.hstack([i,   j,   k, ])\n",
    "    cols = np.hstack([j,   k,   i, ])\n",
    "    T = sp.sparse.csr_matrix((data, (rows, cols)))\n",
    "\n",
    "    # mad gains by flipping across the diagonal ;)\n",
    "    T = T + T.T\n",
    "\n",
    "    # Nearly there. sum the rows and use as diagonal.\n",
    "    S = sp.sparse.diags(T.sum(axis=1).A.ravel())\n",
    "    T = S - T\n",
    "\n",
    "    # i'm never doing this again\n",
    "    # divide by two as we have computed k_1 + k_2\n",
    "    return T / 2\n",
    "\n",
    "\n",
    "# %timeit cotangent_curvature(v7, f7)\n",
    "\n",
    "C = cotangent_curvature(v0, f0)\n",
    "T = np.diag(np.round((180 / np.pi) * C.todense()))\n",
    "\n",
    "assert list(T) == [205, 73, 60, 73, 73, 60, 73]\n",
    "assert np.sum(C) < 1e-6"
   ]
  },
  {
   "cell_type": "markdown",
   "id": "2c56ef1b-1f70-49a6-afc2-4b11af2fa0ea",
   "metadata": {},
   "source": [
    "### Test Mesh"
   ]
  },
  {
   "cell_type": "code",
   "execution_count": 1083,
   "id": "d7ab9bc6-d146-48ed-855b-d731e97e6a91",
   "metadata": {},
   "outputs": [
    {
     "data": {
      "application/vnd.jupyter.widget-view+json": {
       "model_id": "bdeea9bf9e294594b4d73ab77d55052b",
       "version_major": 2,
       "version_minor": 0
      },
      "text/plain": [
       "Renderer(camera=PerspectiveCamera(children=(DirectionalLight(color='white', intensity=0.6, position=(0.0, 0.0,…"
      ]
     },
     "metadata": {},
     "output_type": "display_data"
    },
    {
     "data": {
      "text/plain": [
       "<meshplot.Viewer.Viewer at 0x132b36250>"
      ]
     },
     "execution_count": 1083,
     "metadata": {},
     "output_type": "execute_result"
    }
   ],
   "source": [
    "mp.plot(v0, f0, shading={'wireframe': True})"
   ]
  },
  {
   "cell_type": "markdown",
   "id": "cbe9fc4e-e095-493b-9734-b2e0456668fa",
   "metadata": {},
   "source": [
    "### Check that mean curvature works"
   ]
  },
  {
   "cell_type": "code",
   "execution_count": 1084,
   "id": "75b3e726",
   "metadata": {},
   "outputs": [
    {
     "data": {
      "application/vnd.jupyter.widget-view+json": {
       "model_id": "d98024bdfa254bff88f3bc8b1fee338d",
       "version_major": 2,
       "version_minor": 0
      },
      "text/plain": [
       "Renderer(camera=PerspectiveCamera(children=(DirectionalLight(color='white', intensity=0.6, position=(-0.212662…"
      ]
     },
     "metadata": {},
     "output_type": "display_data"
    },
    {
     "data": {
      "text/plain": [
       "<meshplot.Viewer.Viewer at 0x13044aeb0>"
      ]
     },
     "execution_count": 1084,
     "metadata": {},
     "output_type": "execute_result"
    }
   ],
   "source": [
    "v, f = v8, f8\n",
    "\n",
    "def mean_curvature_metric(v, f):\n",
    "    M = barycentric_mass(v, f)\n",
    "    C = cotangent_curvature(v, f)\n",
    "    Mi = sp.sparse.diags(1 / M.diagonal())\n",
    "    Hn = -Mi @ C @ v\n",
    "    H  = np.linalg.norm(Hn, axis=1)\n",
    "    return H\n",
    "\n",
    "\n",
    "c = percentile_clip(mean_curvature_metric(v, f), 5)\n",
    "\n",
    "mp.plot(v, f, c)"
   ]
  },
  {
   "cell_type": "markdown",
   "id": "a849825b-01a4-4afe-ada3-6d969fe3b152",
   "metadata": {},
   "source": [
    "### Compute Normals"
   ]
  },
  {
   "cell_type": "code",
   "execution_count": 1085,
   "id": "4a01e115-0d82-4a9b-903d-0dd5a895a310",
   "metadata": {},
   "outputs": [],
   "source": [
    "def edge_triangle_adjacency(v, f):\n",
    "    \"\"\"\n",
    "    appendix B.3: Edge based gradient\n",
    "    build an |E| x |F| adjacency matrix where each row sums to 0\n",
    "    ~280ms for ~280000 faces, mostly due to sorting\n",
    "    \"\"\"\n",
    "    i, j, k = f.T\n",
    "    # edges\n",
    "    ed = np.hstack([\n",
    "        [i, j],\n",
    "        [j, k],\n",
    "        [k, i],\n",
    "    ])\n",
    "    # test for jump discontinuity\n",
    "    ix = np.argwhere(ed[0] < ed[1])\n",
    "    # remove discontinuities\n",
    "    ed.sort(axis=0)\n",
    "    # rows are indices into unique edges\n",
    "    ed, rows = np.unique(ed, axis=1, return_inverse=True)\n",
    "    # columns are triangle indices\n",
    "    cols = np.tile(np.arange(len(f)), 3)\n",
    "    # use indices to mask duplicate values, s.t. all rows sum to 1 for a closed manifold\n",
    "    data = 0 - np.ones(len(rows))\n",
    "    data[ix] = 1\n",
    "    # return edge-triangle adjacency matrix\n",
    "    G = scipy.sparse.coo_matrix((data, (rows, cols)))\n",
    "    # while we're in town, build edge lengths\n",
    "    el = np.linalg.norm(v[ed[1]] - v[ed[0]], axis=1)\n",
    "    return G, ed.T, el\n",
    "\n",
    "# assert interior edges sum to 0, exterior edges sum to 1\n",
    "G, ed, el = edge_triangle_adjacency(v0, f0)\n",
    "Ti = scipy.sparse.diags(1 / triangle_area(v0, f0))\n",
    "\n",
    "# the test mesh is not a closed manifold, so these results are weird\n",
    "# but they are correct!\n",
    "assert len(ed) == 12\n",
    "assert np.allclose(G.sum(axis=0).A.ravel(), [1, 1, 1, 1, 1, 1])\n",
    "assert np.allclose(G.sum(axis=1).A.ravel(), [2, 0, 0, 0, 0, -2, 1, 1, 1, 1, 1, 1])\n",
    "assert np.allclose(el, [5, 6, 5, 5, 6, 5,5, 6, 5, 6, 5, 5])"
   ]
  },
  {
   "cell_type": "code",
   "execution_count": 1086,
   "id": "d13f78db-6d4e-4392-887a-58b5a1a765bd",
   "metadata": {},
   "outputs": [],
   "source": [
    "def normest(A):\n",
    "    \"\"\"\n",
    "    oli's attempt at normest in matlab\n",
    "    square root of largest singular value of A?!?\n",
    "    https://en.wikipedia.org/wiki/Matrix_norm\n",
    "    \"\"\"\n",
    "    [e] = scipy.sparse.linalg.svds(A, k=1, return_singular_vectors=False)\n",
    "    return e\n",
    "\n",
    "G, ed, el = edge_triangle_adjacency(v0, f0)\n",
    "assert np.abs(normest(G) - 2.2361) < 1e-4"
   ]
  },
  {
   "cell_type": "code",
   "execution_count": 1312,
   "id": "a679fa87-feca-411c-8ae6-36d24dbf476a",
   "metadata": {},
   "outputs": [],
   "source": [
    "def pdhg(prox_f, prox_g, G, D, u, q, gamma, sigma, tau, iters):\n",
    "    i = 1\n",
    "    err = float('inf')\n",
    "    u_bar = u\n",
    "    thresh = 1e-3\n",
    "    \n",
    "    u_prev = u\n",
    "        \n",
    "    for i in range(0, iters):\n",
    "        if err < thresh:\n",
    "            break\n",
    "        \n",
    "        # update primal and dual\n",
    "        q = prox_f(q + sigma * G @ u_bar)\n",
    "\n",
    "        u_prev = u\n",
    "        u = prox_g(u + tau * D @ q, tau)\n",
    "        u = u / np.linalg.norm(u, axis=1)[:, np.newaxis]\n",
    "\n",
    "        theta = 1 / np.sqrt(1 + 2 * gamma * tau)\n",
    "        tau = theta * tau\n",
    "        sigma = sigma / theta\n",
    "        \n",
    "        u_bar = u + theta * (u - u_prev)\n",
    "        u_bar = u_bar / np.linalg.norm(u_bar, axis=1)[:, np.newaxis]\n",
    "        \n",
    "        err = np.linalg.norm(u - u_prev)\n",
    "\n",
    "    print(f\"PDHG converged after {i} iterations, err: {err}, norm_u: {normest(u)}\")\n",
    "    return u, q\n",
    "        \n",
    "\n",
    "def decompose_normals(v, f, d, alpha, alpha_scale):\n",
    "    \"\"\"\n",
    "    decomposeNormals: apply the spectral TV decomposition to a normal vector field f, defined on the triangles of the\n",
    "    domain M, applying the algorithm 3 in the paper, where:\n",
    "    - alpha is the maximum time of diffusion\n",
    "    - nComp is the number fo spectral components to be computed\n",
    "    - reductionParam is the scale parameter for alpha\n",
    "    - nonuniform is a binary flag indicating whether alpha is scaled non-uniformily\n",
    "    \"\"\"\n",
    "    # gradient operator and edge legnths\n",
    "    G, ed, el = edge_triangle_adjacency(v, f)\n",
    "    # divergence operator\n",
    "    D = -G.T @ scipy.sparse.diags(el)\n",
    "    # estimate the L2 norm of G\n",
    "    pt = normest(G)\n",
    "    # compute normal field\n",
    "    n = face_normals(v, f)\n",
    "    # primal is our normal field\n",
    "    u = n\n",
    "    # dual is a vector for each edge?!\n",
    "    q = np.zeros((len(ed), 3))\n",
    "    # output is our normal fields\n",
    "    sub = np.zeros((d, len(n), 3))\n",
    "    # no idea what this is\n",
    "    v = 0\n",
    "    # or this\n",
    "    gamma = 1\n",
    "    # alpha is maximum diffusion time?!\n",
    "    prev_alpha = alpha\n",
    "    # iterations of pdhg\n",
    "    iters = 1000\n",
    "    \n",
    "    def prox_f_star(x):\n",
    "        y = np.sqrt(np.sum((x ** 2) * el[:, np.newaxis], axis=1))\n",
    "        y[y < 1] = 1\n",
    "        return x / y[:, np.newaxis]\n",
    "    \n",
    "    def prox_g(x, tau):\n",
    "        p = tau / alpha\n",
    "        y = n + v\n",
    "        return (x + p * y) / (1 + p)\n",
    "\n",
    "    print(f\"👻 👻 👻 Decomposing Mesh into {d} components 👻 👻 👻\")\n",
    "    for i in range(0, d):\n",
    "        sub[i] = u\n",
    "        # run pdhg, 1000 iterations for each eigenvector\n",
    "        u, q = pdhg(prox_f_star, prox_g, G, D, u, q, gamma, 1 / pt, 1 / pt, iters)\n",
    "        # scale alpha\n",
    "        prev_alpha = alpha\n",
    "        alpha = alpha * alpha_scale\n",
    "        # ???\n",
    "        v = (v + (n - u)) * alpha / prev_alpha\n",
    "        \n",
    "    phi = sub.copy()\n",
    "    for i in range(2, len(phi)):\n",
    "        phi[i] = phi[i] - sub[i - 1]\n",
    "    \n",
    "    return phi"
   ]
  },
  {
   "cell_type": "code",
   "execution_count": 1313,
   "id": "341196c8-9296-42a2-ad49-33b8792f35a1",
   "metadata": {},
   "outputs": [
    {
     "name": "stdout",
     "output_type": "stream",
     "text": [
      "👻 👻 👻 Decomposing Mesh into 40 components 👻 👻 👻\n",
      "PDHG converged after 999 iterations, err: 0.007071506478966291, norm_u: 124.57667312285942\n",
      "PDHG converged after 999 iterations, err: 0.003920294287618352, norm_u: 127.1870197719841\n",
      "PDHG converged after 999 iterations, err: 0.0024840143226296366, norm_u: 128.72196386916895\n",
      "PDHG converged after 999 iterations, err: 0.0015597740922691707, norm_u: 129.52336058355257\n",
      "PDHG converged after 958 iterations, err: 0.0009976854555771026, norm_u: 129.65004348765115\n",
      "PDHG converged after 999 iterations, err: 0.0016022399200627936, norm_u: 128.8926768758259\n",
      "PDHG converged after 999 iterations, err: 0.003115368397181786, norm_u: 126.80242759601158\n",
      "PDHG converged after 999 iterations, err: 0.00422498586829652, norm_u: 123.49587750067585\n",
      "PDHG converged after 999 iterations, err: 0.0038758188417082062, norm_u: 120.48976167257861\n",
      "PDHG converged after 999 iterations, err: 0.002521473587061608, norm_u: 119.01152645335738\n",
      "PDHG converged after 999 iterations, err: 0.0017578743142091832, norm_u: 119.20962204932952\n",
      "PDHG converged after 999 iterations, err: 0.002012856502629165, norm_u: 120.5044504173678\n",
      "PDHG converged after 999 iterations, err: 0.0015702796535920634, norm_u: 121.57570414287812\n",
      "PDHG converged after 914 iterations, err: 0.0009994046418428074, norm_u: 121.65069359715957\n",
      "PDHG converged after 770 iterations, err: 0.0009989488549611684, norm_u: 121.19825330912474\n",
      "PDHG converged after 598 iterations, err: 0.0009990870958202108, norm_u: 120.9284093581142\n",
      "PDHG converged after 507 iterations, err: 0.0009986047559307717, norm_u: 120.91778093725601\n",
      "PDHG converged after 444 iterations, err: 0.0009964081931892572, norm_u: 120.94255424877862\n",
      "PDHG converged after 374 iterations, err: 0.0009986524307328047, norm_u: 120.92848466157734\n",
      "PDHG converged after 310 iterations, err: 0.0009916750153325044, norm_u: 120.90882231574074\n",
      "PDHG converged after 252 iterations, err: 0.00099537519972787, norm_u: 120.89736690023847\n",
      "PDHG converged after 203 iterations, err: 0.0009863955896909145, norm_u: 120.88969236834762\n",
      "PDHG converged after 167 iterations, err: 0.0009928602464023676, norm_u: 120.8840632828285\n",
      "PDHG converged after 139 iterations, err: 0.000985424287825633, norm_u: 120.88032006860251\n",
      "PDHG converged after 118 iterations, err: 0.000992041231589977, norm_u: 120.87776460169715\n",
      "PDHG converged after 103 iterations, err: 0.0009749386467967922, norm_u: 120.87604044132578\n",
      "PDHG converged after 93 iterations, err: 0.0009812293616361996, norm_u: 120.87494340524306\n",
      "PDHG converged after 85 iterations, err: 0.0009754843527706018, norm_u: 120.87418249828619\n",
      "PDHG converged after 80 iterations, err: 0.0009970946787502997, norm_u: 120.87377863664469\n",
      "PDHG converged after 77 iterations, err: 0.0009838473414217925, norm_u: 120.87356468120083\n",
      "PDHG converged after 75 iterations, err: 0.0009652577531325943, norm_u: 120.87342091691794\n",
      "PDHG converged after 72 iterations, err: 0.0009931035432529274, norm_u: 120.87335605182322\n",
      "PDHG converged after 70 iterations, err: 0.000987673701311731, norm_u: 120.87332498365554\n",
      "PDHG converged after 4 iterations, err: 0.0008278085494312042, norm_u: 120.87328792769925\n",
      "PDHG converged after 2 iterations, err: 0.0004008655846559463, norm_u: 120.8732872433526\n",
      "PDHG converged after 2 iterations, err: 0.0005106204348048779, norm_u: 120.8732870999668\n",
      "PDHG converged after 1 iterations, err: 0.00063667026135706, norm_u: 120.87328690169815\n",
      "PDHG converged after 1 iterations, err: 0.0002112141255962159, norm_u: 120.87328683788714\n",
      "PDHG converged after 1 iterations, err: 4.63275416009741e-05, norm_u: 120.87328682468964\n",
      "PDHG converged after 1 iterations, err: 4.353884130553359e-05, norm_u: 120.87328681192788\n"
     ]
    }
   ],
   "source": [
    "v, f = v8, f8\n",
    "phi = decompose_normals(v, f, d=40, alpha=100, alpha_scale=0.8)"
   ]
  },
  {
   "cell_type": "code",
   "execution_count": 1315,
   "id": "9b887cea-6a84-4fd9-ba5e-7a01c3f1345b",
   "metadata": {},
   "outputs": [
    {
     "data": {
      "image/png": "[encoded data removed]",
      "text/plain": [
       "<Figure size 432x288 with 1 Axes>"
      ]
     },
     "metadata": {
      "needs_background": "light"
     },
     "output_type": "display_data"
    }
   ],
   "source": [
    "# compute and plot the TV spectrum\n",
    "A = triangle_area(v, f)\n",
    "S = np.sum(np.abs(A * np.linalg.norm(phi, axis=2)), axis=1)\n",
    "\n",
    "plt.plot(S)\n",
    "plt.show()"
   ]
  },
  {
   "cell_type": "markdown",
   "id": "b43bc037-59fa-4289-8314-0ab81770c738",
   "metadata": {},
   "source": [
    "`vertex_from_normals` solves the screened poisson equation, on the domain M, associated to the minimization problem:\n",
    "$$\n",
    "\\min_V  ||\\nabla V - W ||_2^2 +eps||V-V_0||_2^2\n",
    "$$\n",
    "computing new vertices  coordinates according to the vector field W obtained from the normal vector field n, solving a screened poisson equation, according to M.Kazhdhan, H.Hoppe \"Screened Poisson Surface Reconstruction\""
   ]
  },
  {
   "cell_type": "code",
   "execution_count": 1316,
   "id": "d725b7e3-15d9-449a-bbdd-03b6be675db6",
   "metadata": {},
   "outputs": [],
   "source": [
    "import numpy.matlib\n",
    "\n",
    "\n",
    "\"\"\"\n",
    "G_F is a diagonal matrix with the areas of the faces along the diagonal, repeated three times: 3|F| x 3|F|\n",
    "\n",
    "To build E:\n",
    "- Get the edges opposite each vertex\n",
    "- Vectors should form a closed chain and sum to zero in a counterclockwise direction\n",
    "- Rotate each vector by 90 degrees so that it points inside the triangle. We'll call this vector r\n",
    "- Fill up the matrix E:\n",
    "    - E(j, i) = r[0]\n",
    "    - E(j + |F|, i) = r[1]\n",
    "    - E(j + 2|F|, i) = r[2]\n",
    "- Multiply 1/2 G_F @ E to get result\n",
    "\n",
    "To rotate an edge vector: compute the normal of the triangle. a rotation is just a cross product with the normal n x e\n",
    "Can you see why?\n",
    "\"\"\"\n",
    "\n",
    "\n",
    "def grad(v, f):\n",
    "    \"\"\"\n",
    "    J is the in-plane pi/2 rotation of the edge e_ji, opposite vertex i in the face j\n",
    "    \"\"\"\n",
    "    dim = v.shape[1]\n",
    "    ss = f.shape[1] \n",
    "    # Renaming indicies of vertices of triangles for convenience \n",
    "    i, j, k = f.T\n",
    "    \n",
    "    # NUM-F x 3 matrices of triangle edge vectors, named after opposite vertices\n",
    "    v32 = v[k] - v[j]\n",
    "    v13 = v[i] - v[k]\n",
    "    v21 = v[j] - v[i]\n",
    "    temp_norm = np.cross(v32, v21) * -1\n",
    "    \n",
    "    twiceA = np.linalg.norm(temp_norm, axis=1)\n",
    "    \n",
    "    # normalize the normals to get unit normals \n",
    "    mag_temp_norm = np.linalg.norm(temp_norm, axis=1)\n",
    "    u = temp_norm / mag_temp_norm[:, None]\n",
    "    tempTwiceA = np.array(1/twiceA)\n",
    "    eperp21 = np.multiply(np.cross(u, v21), tempTwiceA[:, None])\n",
    "    eperp13 = np.multiply(np.cross(u, v13), tempTwiceA[:, None])    \n",
    "    num_F = f.shape[0]\n",
    "    i_temp = np.hstack((0*num_F + np.matlib.repmat(np.arange(num_F), 1, 4), (1*num_F+np.matlib.repmat(np.arange(num_F),1,4))))\n",
    "    i = np.hstack((i_temp, 2*num_F+np.matlib.repmat(np.arange(num_F),1,4)))  # 1 x 96\n",
    "    i = np.transpose(i)\n",
    "    j_temp = np.hstack((f[:,1], f[:,0]))\n",
    "    j_temp = np.hstack((j_temp, f[:,2]))\n",
    "    j_temp = np.hstack((j_temp, f[:,0]))\n",
    "    j = np.matlib.repmat(j_temp, 1, 3) # 1 x 96\n",
    "    j = np.transpose(j)\n",
    "    v = np.hstack((eperp13[:,0], -eperp13[:,0], eperp21[:,0], -eperp21[:,0], eperp13[:,1], -eperp13[:,1], eperp21[:,1], -eperp21[:,1], eperp13[:,2], -eperp13[:,2], eperp21[:,2], -eperp21[:, 2]))\n",
    "    G = scipy.sparse.coo_matrix((np.squeeze(v), (np.squeeze(i), np.squeeze(j))))\n",
    "    return G\n",
    "\n",
    "\n",
    "G = grad(v0, f0)\n",
    "\n",
    "Gt = np.array([\n",
    "   [ 0.1667,      0,-0.1667,      0,      0,      0,      0],\n",
    "   [ 0.1667,      0,-0.1667,      0,      0,      0,      0],\n",
    "   [      0,      0,      0,-0.1667, 0.1667,      0,      0],\n",
    "   [-0.1667,      0,      0,      0,      0, 0.1667,      0],\n",
    "   [-0.1667,      0,      0,      0,      0, 0.1667,      0],\n",
    "   [      0,-0.1667,      0,      0,      0,      0, 0.1667],\n",
    "   [-0.1250, 0.2500,-0.1250,      0,      0,      0,      0],\n",
    "   [ 0.1250,      0, 0.1250,-0.2500,      0,      0,      0],\n",
    "   [ 0.2500,      0,      0,-0.1250,-0.1250,      0,      0],\n",
    "   [ 0.1250,      0,      0,      0,-0.2500, 0.1250,      0],\n",
    "   [-0.1250,      0,      0,      0,      0,-0.1250, 0.2500],\n",
    "   [-0.2500, 0.1250,      0,      0,      0,      0, 0.1250],\n",
    "   [      0,      0,      0,      0,      0,      0,      0],\n",
    "   [      0,      0,      0,      0,      0,      0,      0],\n",
    "   [      0,      0,      0,      0,      0,      0,      0],\n",
    "   [      0,      0,      0,      0,      0,      0,      0],\n",
    "   [      0,      0,      0,      0,      0,      0,      0],\n",
    "   [      0,      0,      0,      0,      0,      0,      0],\n",
    "])\n",
    "\n",
    "assert np.allclose(G.todense().A, Gt, rtol=1e-3)"
   ]
  },
  {
   "cell_type": "code",
   "execution_count": 1317,
   "id": "2402639e-8e6b-441f-827d-a6c6ccb6201f",
   "metadata": {},
   "outputs": [],
   "source": [
    "def div(v, f):\n",
    "    G = grad(v, f)\n",
    "    A = barycentric_mass(v, f)\n",
    "    dblvol = triangle_area(v, f)\n",
    "    TA = scipy.sparse.diags(np.tile(dblvol, 3))\n",
    "    D = -sp.sparse.diags(1 / A.diagonal()) @ G.T @ TA\n",
    "    return D\n",
    "\n",
    "\n",
    "def vertex_from_normals(v, f, n):\n",
    "    \"\"\"\n",
    "    compute vertices from normals\n",
    "    \"\"\"\n",
    "    eps = 1e-10\n",
    "    n = normalize(n)\n",
    "    G = grad(v, f)\n",
    "    D = div(v, f)\n",
    "    A = barycentric_mass(v, f)\n",
    "    D = A @ D\n",
    "        \n",
    "    # ???\n",
    "    vv = G @ v\n",
    "\n",
    "    L = cotangent_curvature(v, f)\n",
    "    \n",
    "    # w = np.zeros_like(vv)\n",
    "    \n",
    "    # if len(n) > len(f):\n",
    "    #     w = vv - np.sum(vv * n, 1)[:, np.newaxis] * n\n",
    "    # else:\n",
    "    vv = vv.reshape(-1, 3, 3, order='F')\n",
    "    w = np.zeros_like(vv)\n",
    "    for i in range(0, 3):\n",
    "        fst = vv[:, i, :].squeeze()\n",
    "        snd = np.sum(fst * n, 1)[:, np.newaxis] * n\n",
    "        w[:, i, :] = fst - snd\n",
    "    \n",
    "    w = w.reshape(-1, 3, order='F')\n",
    "    \n",
    "    # s = sparse(eps*M.A*M.VERT+D*reshape(w,[],3));\n",
    "    s = eps * A @ v + D @ w\n",
    "    \n",
    "    # V = (eps*M.A*speye(M.n)-M.S)\\(s);\n",
    "    A = eps * A @ scipy.sparse.eye(len(v)) - L\n",
    "\n",
    "    V = scipy.sparse.linalg.spsolve(A, s)\n",
    "    \n",
    "    V = V - np.mean(V, axis=0)\n",
    "    return V"
   ]
  },
  {
   "cell_type": "code",
   "execution_count": 1318,
   "id": "8589307a-9dae-4aa3-9e5f-3a2990f5b410",
   "metadata": {},
   "outputs": [
    {
     "data": {
      "application/vnd.jupyter.widget-view+json": {
       "model_id": "0ae4016f28304d9fb66c3ac7d13d1cdf",
       "version_major": 2,
       "version_minor": 0
      },
      "text/plain": [
       "Renderer(camera=PerspectiveCamera(children=(DirectionalLight(color='white', intensity=0.6, position=(-0.118300…"
      ]
     },
     "metadata": {},
     "output_type": "display_data"
    },
    {
     "data": {
      "text/plain": [
       "<meshplot.Viewer.Viewer at 0x1332c2a60>"
      ]
     },
     "execution_count": 1318,
     "metadata": {},
     "output_type": "execute_result"
    }
   ],
   "source": [
    "# phi_recon = np.zeros_like(phi)\n",
    "phi_recon = np.copy(phi)\n",
    "phi_recon[10:] = 0\n",
    "vr = vertex_from_normals(v, f, np.sum(phi_recon, 0))\n",
    "mp.plot(vr, f, shading={'wireframe': True})"
   ]
  },
  {
   "cell_type": "code",
   "execution_count": 1307,
   "id": "18be1f87-c253-4eeb-be68-2b37000f6140",
   "metadata": {},
   "outputs": [
    {
     "data": {
      "application/vnd.jupyter.widget-view+json": {
       "model_id": "5d54d8a0bc304218a6ac33153b17c99a",
       "version_major": 2,
       "version_minor": 0
      },
      "text/plain": [
       "Renderer(camera=PerspectiveCamera(children=(DirectionalLight(color='white', intensity=0.6, position=(-0.212662…"
      ]
     },
     "metadata": {},
     "output_type": "display_data"
    },
    {
     "data": {
      "text/plain": [
       "<meshplot.Viewer.Viewer at 0x1331f3340>"
      ]
     },
     "execution_count": 1307,
     "metadata": {},
     "output_type": "execute_result"
    }
   ],
   "source": [
    "mp.plot(v, f)"
   ]
  },
  {
   "cell_type": "code",
   "execution_count": 1291,
   "id": "0bc6fdf7-7c51-47c5-a3dd-fa3314aa12b8",
   "metadata": {},
   "outputs": [
    {
     "data": {
      "text/plain": [
       "32.556791776929934"
      ]
     },
     "execution_count": 1291,
     "metadata": {},
     "output_type": "execute_result"
    }
   ],
   "source": [
    "np.sum((vr - v)**2)"
   ]
  },
  {
   "cell_type": "code",
   "execution_count": null,
   "id": "70a34e4e-6538-4896-9c29-b915cab3a513",
   "metadata": {},
   "outputs": [],
   "source": []
  }
 ],
 "metadata": {
  "kernelspec": {
   "display_name": "Python 3",
   "language": "python",
   "name": "python3"
  },
  "language_info": {
   "codemirror_mode": {
    "name": "ipython",
    "version": 3
   },
   "file_extension": ".py",
   "mimetype": "text/x-python",
   "name": "python",
   "nbconvert_exporter": "python",
   "pygments_lexer": "ipython3",
   "version": "3.9.2"
  }
 },
 "nbformat": 4,
 "nbformat_minor": 5
}
