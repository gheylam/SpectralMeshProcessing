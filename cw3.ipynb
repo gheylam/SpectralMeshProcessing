{
 "cells": [
  {
   "cell_type": "markdown",
   "id": "43be756d",
   "metadata": {},
   "source": [
    "# SPoOkY Meshes 👻"
   ]
  },
  {
   "cell_type": "code",
   "execution_count": 11,
   "id": "312567a4",
   "metadata": {},
   "outputs": [],
   "source": [
    "import time\n",
    "\n",
    "import numpy as np\n",
    "import scipy as sp\n",
    "import meshplot as mp\n",
    "\n",
    "import matplotlib.pyplot as plt\n",
    "\n",
    "import scipy.sparse\n",
    "import scipy.sparse.linalg\n",
    "import meshio\n",
    "import IPython"
   ]
  },
  {
   "cell_type": "code",
   "execution_count": 12,
   "id": "56d025d0",
   "metadata": {},
   "outputs": [],
   "source": [
    "def load_mesh(filename):\n",
    "    m = meshio.read(filename)\n",
    "    v = m.points\n",
    "    f = m.cells[0].data\n",
    "    # center and scale mesh\n",
    "    v = v - np.mean(v, axis=0)\n",
    "    v = v / np.max(np.std(v, axis=0))\n",
    "    return v, f\n",
    "\n",
    "\n",
    "def save_mesh(filename, v, f):\n",
    "    m  = meshio.Mesh(v, f)\n",
    "    m.write(filename)\n",
    "\n",
    "\n",
    "v1, f1 = load_mesh('example_meshes/curvatures/plane.obj')\n",
    "v2, f2 = load_mesh('example_meshes/curvatures/lilium_s.obj')\n",
    "v3, f3 = load_mesh('example_meshes/decompose/armadillo.obj')\n",
    "v4, f4 = load_mesh('example_meshes/smoothing/fandisk_ns.obj')\n",
    "v5, f5 = load_mesh('example_meshes/smoothing/plane_ns.obj')\n",
    "v7, f7 = load_mesh('sappho-hires.obj')\n",
    "v8, f8 = load_mesh('gargoyle.off')"
   ]
  },
  {
   "cell_type": "code",
   "execution_count": 13,
   "id": "2946df0d",
   "metadata": {},
   "outputs": [],
   "source": [
    "def standardize(v):\n",
    "    \"\"\"\n",
    "    recenter points\n",
    "    \"\"\"\n",
    "    v = v - np.mean(v, axis=0)\n",
    "    v = v / np.std(v, axis=0).max()\n",
    "    return v\n",
    "\n",
    "\n",
    "def percentile_clip(h, n):\n",
    "    \"\"\"\n",
    "    reject outlier points\n",
    "    \"\"\"\n",
    "    return np.clip(h, np.percentile(h, n), np.percentile(h, 100 - n))"
   ]
  },
  {
   "cell_type": "code",
   "execution_count": 14,
   "id": "ea7cb466",
   "metadata": {},
   "outputs": [],
   "source": [
    "# Unsexy test mesh for debugging\n",
    "v0 = np.array([\n",
    "    [ 0, 0, 0],\n",
    "    [-3, 4, 0],\n",
    "    [-6, 0, 0],\n",
    "    [-3,-4, 0],\n",
    "    [ 3,-4, 0],\n",
    "    [ 6, 0, 0],\n",
    "    [ 3, 4, 0],\n",
    "], dtype=np.float32)\n",
    "\n",
    "f0 = np.array([\n",
    "    [0, 1, 2],\n",
    "    [0, 2, 3],\n",
    "    [0, 3, 4],\n",
    "    [0, 4, 5],\n",
    "    [0, 5, 6],\n",
    "    [0, 1, 6],\n",
    "], dtype=np.int32)\n",
    "\n",
    "# perturbed vertex indices to throw off naive algorithms\n",
    "# f0 = np.array([\n",
    "#     [1, 0, 2],\n",
    "#     [2, 3, 0],\n",
    "#     [0, 3, 4],\n",
    "#     [4, 0, 5],\n",
    "#     [5, 6, 0],\n",
    "#     [6, 1, 0],\n",
    "# ], dtype=np.int32)"
   ]
  },
  {
   "cell_type": "markdown",
   "id": "1db97ec7",
   "metadata": {},
   "source": [
    "## Laplace-Beltrami and Friends"
   ]
  },
  {
   "cell_type": "markdown",
   "id": "88133b99",
   "metadata": {},
   "source": [
    "### Vertex Area"
   ]
  },
  {
   "cell_type": "code",
   "execution_count": 15,
   "id": "60899957",
   "metadata": {},
   "outputs": [],
   "source": [
    "def normalize(v):\n",
    "    \"\"\"\n",
    "    normalize rows of vectors\n",
    "    \"\"\"\n",
    "    return v / np.linalg.norm(v, axis=1)[:, np.newaxis]\n",
    "\n",
    "\n",
    "def edges(f, n):\n",
    "    \"\"\"\n",
    "    build an adjacency matrix, return edges in only one direction (upper triangular)\n",
    "    \"\"\"\n",
    "    A = sp.sparse.triu(adjacency(f, n))\n",
    "    ei, ej = A.nonzero()\n",
    "    ed = np.vstack([ei, ej]).T\n",
    "    # sort for consistency\n",
    "    return np.sort(ed, axis=0)\n",
    "\n",
    "\n",
    "def adjacency(f, n):\n",
    "    \"\"\"\n",
    "    build a sparse adjacency matrix from faces in coordinate format.\n",
    "    faces have some redundancy which we use a bitmask to filter.\n",
    "    \"\"\"\n",
    "    A = sp.sparse.dok_matrix((n, n), dtype=bool)\n",
    "    i, j, k = f.T\n",
    "    A[i, j] = True\n",
    "    A[j, k] = True\n",
    "    A[k, i] = True\n",
    "    A = A.tocsr()\n",
    "    A = A + A.T\n",
    "    return A\n",
    "\n",
    "\n",
    "def face_normals(v, f):\n",
    "    \"\"\"\n",
    "    compute normals of faces f\n",
    "    \"\"\"\n",
    "    i, j, k = f.T\n",
    "    a, b, c = v[i], v[j], v[k]\n",
    "    \n",
    "    # Compute edges, ensuring correct winding order\n",
    "    ei = b - c\n",
    "    ek = a - b\n",
    "\n",
    "    # Compute the face normals\n",
    "    n = np.cross(ek, ei, axis=1)\n",
    "\n",
    "    return normalize(n)\n",
    "\n",
    "\n",
    "def triangle_area(v, f):\n",
    "    \"\"\"\n",
    "    compute triangle areas\n",
    "    \"\"\"\n",
    "    i, j, k = f.T\n",
    "    a, b, c = v[i], v[j], v[k]\n",
    "\n",
    "    ac = c - a\n",
    "    bc = c - b\n",
    "\n",
    "    return np.linalg.norm(np.cross(ac, bc, axis=1), axis=1) / 2\n",
    "\n",
    "\n",
    "def vertex_area(v, f):\n",
    "    \"\"\"\n",
    "    compute total area about vertices\n",
    "    3.59ms for 281,724 faces, not bad son\n",
    "    \"\"\"\n",
    "    n = len(v)\n",
    "    A = np.zeros((3, len(f)))\n",
    "\n",
    "    area = triangle_area(v, f)\n",
    "\n",
    "    # set internal angles at vertex location in face array\n",
    "    # using indexes that have duplicate values to increment doesn't work\n",
    "    A[0] = area\n",
    "    A[1] = area\n",
    "    A[2] = area\n",
    "\n",
    "    # some esoteric numpy for summing at duplicated indices\n",
    "    # coo matrices are also an option\n",
    "    data = A.ravel()\n",
    "    cols = f.T.ravel()\n",
    "\n",
    "    M = np.zeros(n)\n",
    "    np.add.at(M, cols, data)\n",
    "\n",
    "    return sp.sparse.diags(M)\n",
    "\n",
    "\n",
    "def barycentric_mass(v, f):\n",
    "    return vertex_area(v, f) / 3\n",
    "\n",
    "\n",
    "M = barycentric_mass(v0, f0)\n",
    "assert list(M.diagonal()) == [24, 8, 8, 8, 8, 8, 8]\n",
    "\n",
    "assert len(edges(f0, len(v0))) == 12"
   ]
  },
  {
   "cell_type": "markdown",
   "id": "b6463b97",
   "metadata": {},
   "source": [
    "# Cotangent operator"
   ]
  },
  {
   "cell_type": "code",
   "execution_count": 16,
   "id": "4ef3188f",
   "metadata": {},
   "outputs": [],
   "source": [
    "def cotangent_curvature(v, f):\n",
    "    \"\"\"\n",
    "    we can sum the contribution of all adjacent angles,\n",
    "    then subtract the contribution of all interior angles.\n",
    "    \n",
    "    using edges would probably avoid some redundant work here (as above).\n",
    "\n",
    "    133ms seconds for 281,724 faces. igl is 52.2ms.\n",
    "    \"\"\"\n",
    "    n = len(v)\n",
    "    \n",
    "    # indices\n",
    "    i, j, k = f.T\n",
    "    a, b, c = v[i], v[j], v[k]\n",
    "\n",
    "    # vectors\n",
    "    ab = b - a\n",
    "    ac = c - a\n",
    "    bc = c - b\n",
    "    \n",
    "    # big chungus cotangent computation\n",
    "    abc = np.einsum('ij,ij->i', ab, ac) / np.linalg.norm(np.cross( ab, ac, axis=1), axis=1)\n",
    "    bac = np.einsum('ij,ij->i',-ab, bc) / np.linalg.norm(np.cross(-ab, bc, axis=1), axis=1)\n",
    "    cab = np.einsum('ij,ij->i',-ac,-bc) / np.linalg.norm(np.cross(-ac,-bc, axis=1), axis=1)\n",
    "\n",
    "    # set weights for opposite edges\n",
    "    # a csr_matrix will sum the quantities for us!\n",
    "    data = np.hstack([cab, abc, bac])\n",
    "    rows = np.hstack([i,   j,   k, ])\n",
    "    cols = np.hstack([j,   k,   i, ])\n",
    "    T = sp.sparse.csr_matrix((data, (rows, cols)))\n",
    "\n",
    "    # mad gains by flipping across the diagonal ;)\n",
    "    T = T + T.T\n",
    "\n",
    "    # Nearly there. sum the rows and use as diagonal.\n",
    "    S = sp.sparse.diags(T.sum(axis=1).A.ravel())\n",
    "    T = S - T\n",
    "\n",
    "    # i'm never doing this again\n",
    "    # divide by two as we have computed k_1 + k_2\n",
    "    return T / 2\n",
    "\n",
    "\n",
    "# %timeit cotangent_curvature(v7, f7)\n",
    "\n",
    "C = cotangent_curvature(v0, f0)\n",
    "T = np.diag(np.round((180 / np.pi) * C.todense()))\n",
    "\n",
    "assert list(T) == [205, 73, 60, 73, 73, 60, 73]\n",
    "assert np.sum(C) < 1e-6"
   ]
  },
  {
   "cell_type": "markdown",
   "id": "2c56ef1b-1f70-49a6-afc2-4b11af2fa0ea",
   "metadata": {},
   "source": [
    "### Test Mesh"
   ]
  },
  {
   "cell_type": "code",
   "execution_count": 17,
   "id": "d7ab9bc6-d146-48ed-855b-d731e97e6a91",
   "metadata": {},
   "outputs": [
    {
     "data": {
      "application/vnd.jupyter.widget-view+json": {
       "model_id": "5b8d3533e76244a889bb83289e114145",
       "version_major": 2,
       "version_minor": 0
      },
      "text/plain": [
       "Renderer(camera=PerspectiveCamera(children=(DirectionalLight(color='white', intensity=0.6, position=(0.0, 0.0,…"
      ]
     },
     "metadata": {},
     "output_type": "display_data"
    },
    {
     "data": {
      "text/plain": [
       "<meshplot.Viewer.Viewer at 0x14025e910>"
      ]
     },
     "execution_count": 17,
     "metadata": {},
     "output_type": "execute_result"
    }
   ],
   "source": [
    "mp.plot(v0, f0, shading={'wireframe': True})"
   ]
  },
  {
   "cell_type": "markdown",
   "id": "cbe9fc4e-e095-493b-9734-b2e0456668fa",
   "metadata": {},
   "source": [
    "### Check that mean curvature works"
   ]
  },
  {
   "cell_type": "code",
   "execution_count": 18,
   "id": "75b3e726",
   "metadata": {},
   "outputs": [
    {
     "data": {
      "application/vnd.jupyter.widget-view+json": {
       "model_id": "8222114a54fa428baddd809abbffcf22",
       "version_major": 2,
       "version_minor": 0
      },
      "text/plain": [
       "Renderer(camera=PerspectiveCamera(children=(DirectionalLight(color='white', intensity=0.6, position=(-0.212662…"
      ]
     },
     "metadata": {},
     "output_type": "display_data"
    },
    {
     "data": {
      "text/plain": [
       "<meshplot.Viewer.Viewer at 0x1031b4340>"
      ]
     },
     "execution_count": 18,
     "metadata": {},
     "output_type": "execute_result"
    }
   ],
   "source": [
    "v, f = v8, f8\n",
    "\n",
    "def mean_curvature_metric(v, f):\n",
    "    M = barycentric_mass(v, f)\n",
    "    C = cotangent_curvature(v, f)\n",
    "    Mi = sp.sparse.diags(1 / M.diagonal())\n",
    "    Hn = -Mi @ C @ v\n",
    "    H  = np.linalg.norm(Hn, axis=1)\n",
    "    return H\n",
    "\n",
    "\n",
    "c = percentile_clip(mean_curvature_metric(v, f), 5)\n",
    "\n",
    "mp.plot(v, f, c)"
   ]
  },
  {
   "cell_type": "markdown",
   "id": "a849825b-01a4-4afe-ada3-6d969fe3b152",
   "metadata": {},
   "source": [
    "### Gradient and Divergence Operators"
   ]
  },
  {
   "cell_type": "code",
   "execution_count": 64,
   "id": "2b06f814-6e1f-4670-9847-7ed17fdb9ba3",
   "metadata": {},
   "outputs": [],
   "source": [
    "def grad(v, f):    \n",
    "    # G_F is a diagonal matrix with the areas of the faces along the diagonal, repeated three times\n",
    "    area = triangle_area(v, f)\n",
    "\n",
    "    # Preprocess by computing 1/(2*G)\n",
    "    G_F = scipy.sparse.diags(1 / np.tile(2 * area, 3))\n",
    "\n",
    "    # To build E:\n",
    "    # Get the edges opposite each vertex\n",
    "    # Vectors should form a closed chain and sum to zero in a counterclockwise direction\n",
    "    i, j, k = f.T\n",
    "    a, b, c = v[i], v[j], v[k]\n",
    "\n",
    "    ei = b - c\n",
    "    ej = c - a\n",
    "    ek = a - b\n",
    "\n",
    "    # Compute the face normals\n",
    "    n = normalize(np.cross(ek, ei, axis=1))\n",
    "    \n",
    "    # Rotate each edge by 90 degrees s.t. it points inward\n",
    "    # Rotation is just the cross product with normal\n",
    "    ei = np.cross(ei, n, axis=1)\n",
    "    ej = np.cross(ej, n, axis=1)\n",
    "    ek = np.cross(ek, n, axis=1)\n",
    "\n",
    "    # Fill up the matrix E, which is 3|F| x V\n",
    "    r = np.arange(len(f) * 3)\n",
    "    rows = np.hstack([r, r, r])\n",
    "    cols = np.hstack([i, i, i, j, j, j, k, k, k])\n",
    "    data = np.hstack([\n",
    "        ei[:, 0], ei[:, 1], ei[:, 2],\n",
    "        ej[:, 0], ej[:, 1], ej[:, 2],\n",
    "        ek[:, 0], ek[:, 1], ek[:, 2],\n",
    "    ])\n",
    "\n",
    "    E = scipy.sparse.coo_matrix((data, (rows, cols)))\n",
    "\n",
    "    # Grad is G_F x E\n",
    "    return G_F @ E\n",
    "\n",
    "# Assert all rows of test mesh sum to 0\n",
    "G = grad(v0, f0)\n",
    "assert np.allclose(G.sum(1).ravel(), np.zeros(18))"
   ]
  },
  {
   "cell_type": "code",
   "execution_count": 65,
   "id": "0670b9d7-0319-4cf1-8492-700eb6ff960e",
   "metadata": {},
   "outputs": [],
   "source": [
    "def div(v, f):\n",
    "    G = grad(v, f)\n",
    "    A = barycentric_mass(v, f)\n",
    "    area = triangle_area(v, f)\n",
    "    TA = scipy.sparse.diags(np.tile(area, 3))\n",
    "    D = -sp.sparse.diags(1 / A.diagonal()) @ G.T @ TA\n",
    "    return D\n",
    "\n",
    "\n",
    "# Assert sums for test mesh\n",
    "D = div(v0, f0)\n",
    "assert np.allclose(D.sum(1).ravel(), [0, -0.3125, 0.5, 0.8125, 0.3125, -0.5, -0.8125])"
   ]
  },
  {
   "cell_type": "code",
   "execution_count": 21,
   "id": "4a01e115-0d82-4a9b-903d-0dd5a895a310",
   "metadata": {},
   "outputs": [],
   "source": [
    "def edge_grad(v, f):\n",
    "    \"\"\"\n",
    "    appendix B.3: Edge based gradient\n",
    "    build an |E| x |F| adjacency matrix where each row sums to 0\n",
    "    ~280ms for ~280000 faces, mostly due to sorting\n",
    "    \"\"\"\n",
    "    i, j, k = f.T\n",
    "    # edges\n",
    "    ed = np.hstack([\n",
    "        [i, j],\n",
    "        [j, k],\n",
    "        [k, i],\n",
    "    ])\n",
    "    # test for jump discontinuity\n",
    "    ix = np.argwhere(ed[0] < ed[1])\n",
    "    # remove discontinuities\n",
    "    ed.sort(axis=0)\n",
    "    # rows are indices into unique edges\n",
    "    ed, rows = np.unique(ed, axis=1, return_inverse=True)\n",
    "    # columns are triangle indices\n",
    "    cols = np.tile(np.arange(len(f)), 3)\n",
    "    # use indices to mask duplicate values, s.t. all rows sum to 1 for a closed manifold\n",
    "    data = 0 - np.ones(len(rows))\n",
    "    data[ix] = 1\n",
    "    # return edge-triangle adjacency matrix\n",
    "    G = scipy.sparse.coo_matrix((data, (rows, cols)))\n",
    "    # while we're in town, build edge lengths\n",
    "    el = np.linalg.norm(v[ed[1]] - v[ed[0]], axis=1)\n",
    "    return G, ed.T, el\n",
    "\n",
    "# assert interior edges sum to 0, exterior edges sum to 1\n",
    "G, ed, el = edge_grad(v0, f0)\n",
    "Ti = scipy.sparse.diags(1 / triangle_area(v0, f0))\n",
    "\n",
    "# the test mesh is not a closed manifold, so these results are weird\n",
    "# but they are correct!\n",
    "assert len(ed) == 12\n",
    "assert np.allclose(G.sum(axis=0).A.ravel(), [1, 1, 1, 1, 1, 1])\n",
    "assert np.allclose(G.sum(axis=1).A.ravel(), [2, 0, 0, 0, 0, -2, 1, 1, 1, 1, 1, 1])\n",
    "assert np.allclose(el, [5, 6, 5, 5, 6, 5,5, 6, 5, 6, 5, 5])"
   ]
  },
  {
   "cell_type": "markdown",
   "id": "1abe5632-550d-4742-9e66-cb7e8c837415",
   "metadata": {},
   "source": [
    "### Reconstruction\n",
    "\n",
    "Reconstruct a mesh from a normal field"
   ]
  },
  {
   "cell_type": "code",
   "execution_count": 66,
   "id": "2402639e-8e6b-441f-827d-a6c6ccb6201f",
   "metadata": {},
   "outputs": [],
   "source": [
    "def vertex_from_normals(v, f, n):\n",
    "    \"\"\"\n",
    "    compute vertices from normals\n",
    "    \"\"\"\n",
    "    eps = 1e-10\n",
    "    n = normalize(n)\n",
    "    G = grad(v, f)\n",
    "    D = div(v, f)\n",
    "    A = barycentric_mass(v, f)\n",
    "    D = A @ D\n",
    "        \n",
    "    # ???\n",
    "    vv = G @ v\n",
    "\n",
    "    L = cotangent_curvature(v, f)\n",
    "    \n",
    "    # w = np.zeros_like(vv)\n",
    "    \n",
    "    # if len(n) > len(f):\n",
    "    #     w = vv - np.sum(vv * n, 1)[:, np.newaxis] * n\n",
    "    # else:\n",
    "    vv = vv.reshape(-1, 3, 3, order='F')\n",
    "    w = np.zeros_like(vv)\n",
    "    for i in range(0, 3):\n",
    "        fst = vv[:, i, :].squeeze()\n",
    "        snd = np.sum(fst * n, 1)[:, np.newaxis] * n\n",
    "        w[:, i, :] = fst - snd\n",
    "    \n",
    "    w = w.reshape(-1, 3, order='F')\n",
    "    \n",
    "    # s = sparse(eps*M.A*M.VERT+D*reshape(w,[],3));\n",
    "    s = eps * A @ v + D @ w\n",
    "    \n",
    "    # V = (eps*M.A*speye(M.n)-M.S)\\(s);\n",
    "    A = eps * A @ scipy.sparse.eye(len(v)) - L\n",
    "\n",
    "    V = scipy.sparse.linalg.spsolve(A, s)\n",
    "    \n",
    "    V = V - np.mean(V, axis=0)\n",
    "    return V"
   ]
  },
  {
   "cell_type": "code",
   "execution_count": 23,
   "id": "d13f78db-6d4e-4392-887a-58b5a1a765bd",
   "metadata": {},
   "outputs": [],
   "source": [
    "def normest(A):\n",
    "    \"\"\"\n",
    "    oli's attempt at normest in matlab\n",
    "    square root of largest singular value of A?!?\n",
    "    https://en.wikipedia.org/wiki/Matrix_norm\n",
    "    \"\"\"\n",
    "    [e] = scipy.sparse.linalg.svds(A, k=1, return_singular_vectors=False)\n",
    "    return e\n",
    "\n",
    "\n",
    "G, ed, el = edge_grad(v0, f0)\n",
    "assert np.abs(normest(G) - 2.2361) < 1e-4"
   ]
  },
  {
   "cell_type": "markdown",
   "id": "bd94357f-df21-4746-a3d5-f27a78985176",
   "metadata": {},
   "source": [
    "## Primal-Dual Hybrid Gradient"
   ]
  },
  {
   "cell_type": "code",
   "execution_count": 73,
   "id": "a679fa87-feca-411c-8ae6-36d24dbf476a",
   "metadata": {},
   "outputs": [],
   "source": [
    "def pdhg(prox_f, prox_g, G, D, u, q, gamma, sigma, tau, iters):\n",
    "    err = float('inf')\n",
    "    thresh = 1e-3\n",
    "    \n",
    "    u_bar = u\n",
    "    u_prev = u\n",
    "        \n",
    "    for i in range(0, iters):\n",
    "        if err < thresh:\n",
    "            break\n",
    "        \n",
    "        # update primal and dual\n",
    "        q = prox_f(q + sigma * G @ u_bar)\n",
    "\n",
    "        u_prev = u\n",
    "        u = prox_g(u + tau * D @ q, tau)\n",
    "        u = normalize(u)\n",
    "\n",
    "        theta = 1 / np.sqrt(1 + 2 * gamma * tau)\n",
    "        tau = theta * tau\n",
    "        sigma = sigma / theta\n",
    "        \n",
    "        u_bar = u + theta * (u - u_prev)\n",
    "        u_bar = normalize(u_bar)\n",
    "\n",
    "        err = np.linalg.norm(u - u_prev)\n",
    "\n",
    "    print(f\"PDHG converged after {i} iterations, err: {err}, norm_u: {normest(u)}\")\n",
    "    return u, q\n",
    "        \n",
    "\n",
    "def decompose_normals(v, f, d, alpha, alpha_scale):\n",
    "    \"\"\"\n",
    "    decomposeNormals: apply the spectral TV decomposition to a normal vector field f, defined on the triangles of the\n",
    "    domain M, applying the algorithm 3 in the paper, where:\n",
    "    - alpha is the maximum time of diffusion\n",
    "    - nComp is the number fo spectral components to be computed\n",
    "    - reductionParam is the scale parameter for alpha\n",
    "    - nonuniform is a binary flag indicating whether alpha is scaled non-uniformily\n",
    "    \"\"\"\n",
    "    # gradient operator and edge legnths\n",
    "    G, ed, el = edge_grad(v, f)\n",
    "    # divergence operator\n",
    "    D = -G.T @ scipy.sparse.diags(el)\n",
    "    # estimate the L2 norm of G\n",
    "    pt = normest(G)\n",
    "    # compute normal field\n",
    "    n = face_normals(v, f)\n",
    "    # initialize primal to our normal field\n",
    "    u = n\n",
    "    # dual is a vector for each edge?!\n",
    "    q = np.zeros((len(ed), 3))\n",
    "    # output is spectral bands as normal fields\n",
    "    sub = np.zeros((d, len(n), 3))\n",
    "    # no idea what this is\n",
    "    v = 0\n",
    "    # or this\n",
    "    gamma = 1\n",
    "    # alpha is maximum diffusion time?!\n",
    "    prev_alpha = alpha\n",
    "    # iterations of pdhg\n",
    "    iters = 1000\n",
    "    \n",
    "    def prox_f_star(x):\n",
    "        y = np.sqrt(np.sum((x ** 2) * el[:, np.newaxis], axis=1))\n",
    "        y[y < 1] = 1\n",
    "        return x / y[:, np.newaxis]\n",
    "    \n",
    "    def prox_g(x, tau):\n",
    "        p = tau / alpha\n",
    "        y = n + v\n",
    "        return (x + p * y) / (1 + p)\n",
    "\n",
    "    print(f\"👻 👻 👻 Decomposing Mesh into {d} components 👻 👻 👻\")\n",
    "    for i in range(0, d):\n",
    "        sub[i] = u\n",
    "        # run pdhg, 1000 iterations for each eigenvector\n",
    "        u, q = pdhg(prox_f_star, prox_g, G, D, u, q, gamma, 1 / pt, 1 / pt, iters)\n",
    "        # scale alpha\n",
    "        prev_alpha = alpha\n",
    "        alpha = alpha * alpha_scale\n",
    "        # ???\n",
    "        v = (v + (n - u)) * alpha / prev_alpha\n",
    "    \n",
    "    phi = sub.copy()\n",
    "    for i in range(1, len(phi)):\n",
    "        phi[i] = phi[i] - sub[i - 1]\n",
    "    \n",
    "    return phi"
   ]
  },
  {
   "cell_type": "markdown",
   "id": "fd83e53f-d11b-4cf6-8853-3c43614dac2f",
   "metadata": {},
   "source": [
    "## Results"
   ]
  },
  {
   "cell_type": "code",
   "execution_count": 154,
   "id": "341196c8-9296-42a2-ad49-33b8792f35a1",
   "metadata": {},
   "outputs": [
    {
     "name": "stdout",
     "output_type": "stream",
     "text": [
      "👻 👻 👻 Decomposing Mesh into 40 components 👻 👻 👻\n",
      "PDHG converged after 999 iterations, err: 0.003222359631414317, norm_u: 82.86755370705059\n",
      "PDHG converged after 999 iterations, err: 0.002363864603864428, norm_u: 83.63325428828594\n",
      "PDHG converged after 999 iterations, err: 0.001582877694846429, norm_u: 84.08062658993686\n",
      "PDHG converged after 999 iterations, err: 0.001140706978802742, norm_u: 84.34176416283347\n",
      "PDHG converged after 930 iterations, err: 0.0009966382467220256, norm_u: 84.41059498518236\n",
      "PDHG converged after 952 iterations, err: 0.0009981284893110908, norm_u: 84.20271652841586\n",
      "PDHG converged after 999 iterations, err: 0.0019779441039831135, norm_u: 83.61762747147564\n",
      "PDHG converged after 999 iterations, err: 0.002983577325110641, norm_u: 82.7462010780138\n",
      "PDHG converged after 999 iterations, err: 0.002884538301340301, norm_u: 82.01578998747927\n",
      "PDHG converged after 999 iterations, err: 0.0017951225879656717, norm_u: 81.7795011455319\n",
      "PDHG converged after 999 iterations, err: 0.0011781857308875018, norm_u: 81.72961460669158\n",
      "PDHG converged after 999 iterations, err: 0.002404941922208966, norm_u: 81.67601518909339\n",
      "PDHG converged after 999 iterations, err: 0.0026382242994873557, norm_u: 81.27627715159025\n",
      "PDHG converged after 999 iterations, err: 0.0023921410243811308, norm_u: 79.8983234075519\n",
      "PDHG converged after 999 iterations, err: 0.0017834752987645698, norm_u: 78.47136694145581\n",
      "PDHG converged after 959 iterations, err: 0.0009994974227086387, norm_u: 78.33255882181753\n",
      "PDHG converged after 577 iterations, err: 0.0009989286593284573, norm_u: 78.6190411193438\n",
      "PDHG converged after 370 iterations, err: 0.0009974337225041828, norm_u: 78.6233182855734\n",
      "PDHG converged after 269 iterations, err: 0.00099638333910485, norm_u: 78.54196986984287\n",
      "PDHG converged after 212 iterations, err: 0.0009922918406802047, norm_u: 78.50662783358837\n",
      "PDHG converged after 172 iterations, err: 0.0009986060859868762, norm_u: 78.49112624799034\n",
      "PDHG converged after 137 iterations, err: 0.000982834183910369, norm_u: 78.47764682946213\n",
      "PDHG converged after 112 iterations, err: 0.000980299092290085, norm_u: 78.4687053786783\n",
      "PDHG converged after 89 iterations, err: 0.0009851889426758043, norm_u: 78.46392609743786\n",
      "PDHG converged after 75 iterations, err: 0.0009790581628346638, norm_u: 78.46139698338852\n",
      "PDHG converged after 62 iterations, err: 0.0009633705992955498, norm_u: 78.45998965037633\n",
      "PDHG converged after 55 iterations, err: 0.0009699330496835049, norm_u: 78.45928715664809\n",
      "PDHG converged after 50 iterations, err: 0.0009763973420367703, norm_u: 78.45877797162117\n",
      "PDHG converged after 48 iterations, err: 0.0009539441752607461, norm_u: 78.45854243813567\n",
      "PDHG converged after 47 iterations, err: 0.000956955278841588, norm_u: 78.45845483016649\n",
      "PDHG converged after 46 iterations, err: 0.0009976875036937615, norm_u: 78.45839710479993\n",
      "PDHG converged after 46 iterations, err: 0.0009443658673344253, norm_u: 78.45835658242848\n",
      "PDHG converged after 44 iterations, err: 0.0009641743292033617, norm_u: 78.45833984336375\n",
      "PDHG converged after 3 iterations, err: 0.0007706506316557966, norm_u: 78.45832757325176\n",
      "PDHG converged after 2 iterations, err: 0.00026418803935533496, norm_u: 78.45832874077968\n",
      "PDHG converged after 1 iterations, err: 0.0005453296073672977, norm_u: 78.45832919246804\n",
      "PDHG converged after 1 iterations, err: 0.00018598186310099575, norm_u: 78.45832930546204\n",
      "PDHG converged after 1 iterations, err: 4.295221608822875e-05, norm_u: 78.45832930935211\n",
      "PDHG converged after 1 iterations, err: 4.0446333667370764e-05, norm_u: 78.45832931945438\n",
      "PDHG converged after 1 iterations, err: 3.876787775229294e-05, norm_u: 78.45832933222943\n"
     ]
    }
   ],
   "source": [
    "v, f = v4, f4\n",
    "phi = decompose_normals(v, f, d=40, alpha=100, alpha_scale=0.8)"
   ]
  },
  {
   "cell_type": "code",
   "execution_count": 155,
   "id": "9b887cea-6a84-4fd9-ba5e-7a01c3f1345b",
   "metadata": {},
   "outputs": [
    {
     "data": {
      "image/png": "[encoded data removed]",
      "text/plain": [
       "<Figure size 432x288 with 1 Axes>"
      ]
     },
     "metadata": {
      "needs_background": "light"
     },
     "output_type": "display_data"
    }
   ],
   "source": [
    "# compute and plot the TV spectrum\n",
    "A = triangle_area(v, f)\n",
    "S = np.sum(np.abs(A * np.linalg.norm(phi, axis=2)), axis=1)\n",
    "\n",
    "plt.plot(S)\n",
    "plt.show()"
   ]
  },
  {
   "cell_type": "markdown",
   "id": "382e4e27-44f4-481e-90d4-e98ed46ebb9d",
   "metadata": {},
   "source": [
    "`vertex_from_normals` solves the screened poisson equation, on the domain M, associated to the minimization problem:\n",
    "$$\n",
    "\\min_V  ||\\nabla V - W ||_2^2 +eps||V-V_0||_2^2\n",
    "$$\n",
    "computing new vertices  coordinates according to the vector field W obtained from the normal vector field n, solving a screened poisson equation, according to M.Kazhdhan, H.Hoppe \"Screened Poisson Surface Reconstruction\""
   ]
  },
  {
   "cell_type": "code",
   "execution_count": 156,
   "id": "8589307a-9dae-4aa3-9e5f-3a2990f5b410",
   "metadata": {},
   "outputs": [
    {
     "data": {
      "application/vnd.jupyter.widget-view+json": {
       "model_id": "9b691053228a4a6f8434125c8b16790d",
       "version_major": 2,
       "version_minor": 0
      },
      "text/plain": [
       "Renderer(camera=PerspectiveCamera(children=(DirectionalLight(color='white', intensity=0.6, position=(-0.075344…"
      ]
     },
     "metadata": {},
     "output_type": "display_data"
    },
    {
     "data": {
      "application/vnd.jupyter.widget-view+json": {
       "model_id": "4e4e51e639f74fb6b7be2b2ab2528433",
       "version_major": 2,
       "version_minor": 0
      },
      "text/plain": [
       "interactive(children=(IntSlider(value=20, description='eigenvectors', max=40, min=1), Output()), _dom_classes=…"
      ]
     },
     "metadata": {},
     "output_type": "display_data"
    },
    {
     "data": {
      "text/plain": [
       "<meshplot.Viewer.Viewer at 0x167ec23a0>"
      ]
     },
     "execution_count": 156,
     "metadata": {},
     "output_type": "execute_result"
    }
   ],
   "source": [
    "p = mp.plot(v, f, return_plot=True)\n",
    "\n",
    "@mp.interact(eigenvectors=(1, len(phi)))\n",
    "def ff(eigenvectors):\n",
    "    pin = np.arange(eigenvectors, len(phi))\n",
    "    phi_recon = np.copy(phi)\n",
    "    phi_recon[pin] = 0\n",
    "    vr = vertex_from_normals(v, f, np.sum(phi_recon, 0))\n",
    "    p.update_object(vertices=vr)\n",
    "p"
   ]
  },
  {
   "cell_type": "code",
   "execution_count": 157,
   "id": "18be1f87-c253-4eeb-be68-2b37000f6140",
   "metadata": {},
   "outputs": [
    {
     "data": {
      "application/vnd.jupyter.widget-view+json": {
       "model_id": "141876513fd54391b48d3255f8d7fbc7",
       "version_major": 2,
       "version_minor": 0
      },
      "text/plain": [
       "Renderer(camera=PerspectiveCamera(children=(DirectionalLight(color='white', intensity=0.6, position=(-0.075344…"
      ]
     },
     "metadata": {},
     "output_type": "display_data"
    },
    {
     "data": {
      "text/plain": [
       "<meshplot.Viewer.Viewer at 0x167ec20d0>"
      ]
     },
     "execution_count": 157,
     "metadata": {},
     "output_type": "execute_result"
    }
   ],
   "source": [
    "mp.plot(v, f)"
   ]
  },
  {
   "cell_type": "code",
   "execution_count": null,
   "id": "70a34e4e-6538-4896-9c29-b915cab3a513",
   "metadata": {},
   "outputs": [],
   "source": []
  }
 ],
 "metadata": {
  "kernelspec": {
   "display_name": "Python 3",
   "language": "python",
   "name": "python3"
  },
  "language_info": {
   "codemirror_mode": {
    "name": "ipython",
    "version": 3
   },
   "file_extension": ".py",
   "mimetype": "text/x-python",
   "name": "python",
   "nbconvert_exporter": "python",
   "pygments_lexer": "ipython3",
   "version": "3.9.2"
  }
 },
 "nbformat": 4,
 "nbformat_minor": 5
}
